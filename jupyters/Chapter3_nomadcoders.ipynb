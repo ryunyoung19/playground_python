{
 "cells": [
  {
   "cell_type": "code",
   "execution_count": 1,
   "id": "e198c341-799c-4127-8bc9-227e64c05950",
   "metadata": {},
   "outputs": [],
   "source": [
    "#3 Control FLow\n",
    "#3.3 And & Or"
   ]
  },
  {
   "cell_type": "code",
   "execution_count": 2,
   "id": "eb206229-fc25-41ed-940a-afd4c6da4edd",
   "metadata": {},
   "outputs": [
    {
     "name": "stdin",
     "output_type": "stream",
     "text": [
      "How old are you? 5\n"
     ]
    },
    {
     "name": "stdout",
     "output_type": "stream",
     "text": [
      "user answer 5\n"
     ]
    }
   ],
   "source": [
    "age = input(\"How old are you?\")\n",
    "print(\"user answer\", age)"
   ]
  },
  {
   "cell_type": "code",
   "execution_count": 3,
   "id": "f09f3cd4-3d5b-4f8b-b6fb-017f0e9de738",
   "metadata": {},
   "outputs": [
    {
     "name": "stdout",
     "output_type": "stream",
     "text": [
      "<class 'str'>\n"
     ]
    }
   ],
   "source": [
    "print(type(age))"
   ]
  },
  {
   "cell_type": "code",
   "execution_count": 4,
   "id": "bbabf318-ab92-4587-a333-ba8d6a507c2a",
   "metadata": {},
   "outputs": [
    {
     "name": "stdin",
     "output_type": "stream",
     "text": [
      "How old are you? 6\n"
     ]
    }
   ],
   "source": [
    "age = int(input(\"How old are you?\"))"
   ]
  },
  {
   "cell_type": "code",
   "execution_count": 5,
   "id": "38488d64-ae8d-4497-9572-da2a1d73ff9e",
   "metadata": {},
   "outputs": [
    {
     "name": "stdout",
     "output_type": "stream",
     "text": [
      "You can't drink.\n"
     ]
    }
   ],
   "source": [
    "if age < 18:\n",
    "    print(\"You can't drink.\")\n",
    "elif age >= 18 and age <= 35:\n",
    "    print(\"You drink beer!\")\n",
    "elif age == 60 or age == 70:\n",
    "    print(\"Birthday party!\")\n",
    "else:\n",
    "    print(\"Go agead!\")"
   ]
  },
  {
   "cell_type": "code",
   "execution_count": 6,
   "id": "fb35843b-7011-4114-a55d-8d2e05354e5b",
   "metadata": {},
   "outputs": [],
   "source": [
    "#3.4 Python Standard Library (random.randint(a,b)"
   ]
  },
  {
   "cell_type": "code",
   "execution_count": 7,
   "id": "3d1a499b-4f33-49d3-b256-1914ad35f752",
   "metadata": {},
   "outputs": [
    {
     "name": "stdin",
     "output_type": "stream",
     "text": [
      "Choose number. 4\n"
     ]
    },
    {
     "name": "stdout",
     "output_type": "stream",
     "text": [
      "Higher! Computer chose 50\n"
     ]
    }
   ],
   "source": [
    "from random import randint\n",
    "user_choice = int(input(\"Choose number.\"))\n",
    "pc_choice = randint(1, 50)\n",
    "\n",
    "if user_choice == pc_choice:\n",
    " print(\"You won!\")\n",
    "elif user_choice > pc_choice:\n",
    "    print(\"Lower! Computer chose\", pc_choice)\n",
    "elif user_choice < pc_choice:\n",
    "    print(\"Higher! Computer chose\", pc_choice)"
   ]
  },
  {
   "cell_type": "code",
   "execution_count": 8,
   "id": "0bd9f4bd-c410-418a-bcbc-f9f9e709b55b",
   "metadata": {},
   "outputs": [],
   "source": [
    "#3.5 While"
   ]
  },
  {
   "cell_type": "code",
   "execution_count": 9,
   "id": "7374bd77-f070-4d9b-b2ff-eb57c071e69f",
   "metadata": {},
   "outputs": [
    {
     "name": "stdout",
     "output_type": "stream",
     "text": [
      "I'm running: 0 km\n",
      "I'm running: 1 km\n",
      "I'm running: 2 km\n",
      "I'm running: 3 km\n",
      "I'm running: 4 km\n",
      "I'm running: 5 km\n",
      "I'm running: 6 km\n",
      "I'm running: 7 km\n",
      "I'm running: 8 km\n",
      "I'm running: 9 km\n",
      "I'm running: 10 km\n",
      "I'm running: 11 km\n",
      "I'm running: 12 km\n",
      "I'm running: 13 km\n",
      "I'm running: 14 km\n",
      "I'm running: 15 km\n",
      "I'm running: 16 km\n",
      "I'm running: 17 km\n",
      "I'm running: 18 km\n",
      "I'm running: 19 km\n"
     ]
    }
   ],
   "source": [
    "distance = 0\n",
    "\n",
    "while distance < 20:\n",
    "    print(\"I'm running:\", distance, \"km\")\n",
    "    distance = distance + 1"
   ]
  },
  {
   "cell_type": "code",
   "execution_count": 10,
   "id": "7d5685c7-ba23-46c8-a12e-2e1f6c5189b1",
   "metadata": {},
   "outputs": [],
   "source": [
    "#3.6 Python Casino"
   ]
  },
  {
   "cell_type": "code",
   "execution_count": null,
   "id": "eff7bdf2-f45c-4d0d-97f2-7fe5ececb8cb",
   "metadata": {},
   "outputs": [
    {
     "name": "stdout",
     "output_type": "stream",
     "text": [
      "Welcome to Python Casino\n"
     ]
    }
   ],
   "source": [
    "from random import randint #random은 모듈, randint는 함수 (모듈은 많은 함수갖고있음)\n",
    "\n",
    "print(\"Welcome to Python Casino\")\n",
    "pc_choice = randint(1, 50)\n",
    "\n",
    "playing = True #변수 = 기본값\n",
    "\n",
    "while playing:\n",
    "    user_choice = int(input(\"Choose number:\"))\n",
    "    if user_choice == pc_choice:\n",
    "     print(\"You won!\")\n",
    "     playing = False\n",
    "    elif user_choice > pc_choice:\n",
    "        print(\"Lower!\")\n",
    "    elif user_choice < pc_choice:\n",
    "        print(\"Higher!\")"
   ]
  },
  {
   "cell_type": "code",
   "execution_count": null,
   "id": "181da422-6c7f-41f8-aaa3-a5aa9cff0dbd",
   "metadata": {},
   "outputs": [],
   "source": []
  },
  {
   "cell_type": "code",
   "execution_count": null,
   "id": "b6f1b77f-3f05-46c7-ab18-495ceddb2bd9",
   "metadata": {},
   "outputs": [],
   "source": [
    " "
   ]
  },
  {
   "cell_type": "code",
   "execution_count": null,
   "id": "5b98c060-8c91-47e3-9e0e-2f96be5be717",
   "metadata": {},
   "outputs": [],
   "source": []
  }
 ],
 "metadata": {
  "kernelspec": {
   "display_name": "Python 3 (ipykernel)",
   "language": "python",
   "name": "python3"
  },
  "language_info": {
   "codemirror_mode": {
    "name": "ipython",
    "version": 3
   },
   "file_extension": ".py",
   "mimetype": "text/x-python",
   "name": "python",
   "nbconvert_exporter": "python",
   "pygments_lexer": "ipython3",
   "version": "3.13.1"
  }
 },
 "nbformat": 4,
 "nbformat_minor": 5
}
