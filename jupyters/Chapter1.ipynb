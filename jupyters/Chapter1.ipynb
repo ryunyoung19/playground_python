{
 "cells": [
  {
   "cell_type": "code",
   "execution_count": 1,
   "id": "1c8e0abf-4a3f-4f91-859e-b03a4605adf3",
   "metadata": {},
   "outputs": [
    {
     "name": "stdout",
     "output_type": "stream",
     "text": [
      "Hello nico\n",
      "Hello anonymous\n"
     ]
    }
   ],
   "source": [
    "def say_hello(user_name=\"anonymous\"):\n",
    "  print(\"Hello\", user_name)\n",
    "\n",
    "say_hello(\"nico\")\n",
    "say_hello()"
   ]
  },
  {
   "cell_type": "code",
   "execution_count": 2,
   "id": "918c769f-eab6-4551-b9bb-859fc5e9ee1d",
   "metadata": {},
   "outputs": [
    {
     "name": "stdout",
     "output_type": "stream",
     "text": [
      "0\n"
     ]
    }
   ],
   "source": [
    "def plus(a=0, b=0):\n",
    "  print(a + b)\n",
    "plus()"
   ]
  },
  {
   "cell_type": "code",
   "execution_count": 4,
   "id": "eba39a3b-da30-4f5b-bb02-75423eb9e205",
   "metadata": {},
   "outputs": [
    {
     "name": "stdout",
     "output_type": "stream",
     "text": [
      "0\n"
     ]
    }
   ],
   "source": [
    "plus()"
   ]
  },
  {
   "cell_type": "code",
   "execution_count": 2,
   "id": "7dbfbf58-a71d-4706-81e0-5864c26032db",
   "metadata": {},
   "outputs": [
    {
     "name": "stdin",
     "output_type": "stream",
     "text": [
      "How old are you? 27\n"
     ]
    },
    {
     "name": "stdout",
     "output_type": "stream",
     "text": [
      "user answer 27\n"
     ]
    }
   ],
   "source": [
    "age = input(\"How old are you?\")\n",
    "print(\"user answer\", age)"
   ]
  },
  {
   "cell_type": "code",
   "execution_count": null,
   "id": "5230f924-e39f-4435-88cd-92e59e326f79",
   "metadata": {},
   "outputs": [],
   "source": [
    "type(age)"
   ]
  },
  {
   "cell_type": "code",
   "execution_count": null,
   "id": "d03fd3a0-b8be-48b6-b005-5b574ab7b8d6",
   "metadata": {},
   "outputs": [],
   "source": []
  },
  {
   "cell_type": "code",
   "execution_count": null,
   "id": "2ae7bc0d-2106-4e70-a8d2-d04e5d9cee20",
   "metadata": {},
   "outputs": [],
   "source": []
  },
  {
   "cell_type": "code",
   "execution_count": null,
   "id": "d00ca347-073c-4715-9646-bddd4c49d29b",
   "metadata": {},
   "outputs": [],
   "source": []
  },
  {
   "cell_type": "code",
   "execution_count": null,
   "id": "5d92df40-b3d6-4ce5-a335-b362ceb4ca1d",
   "metadata": {},
   "outputs": [],
   "source": []
  },
  {
   "cell_type": "code",
   "execution_count": null,
   "id": "5535cab5-79d0-4b4e-a99c-47195c936f14",
   "metadata": {},
   "outputs": [],
   "source": []
  }
 ],
 "metadata": {
  "kernelspec": {
   "display_name": "Python 3 (ipykernel)",
   "language": "python",
   "name": "python3"
  },
  "language_info": {
   "codemirror_mode": {
    "name": "ipython",
    "version": 3
   },
   "file_extension": ".py",
   "mimetype": "text/x-python",
   "name": "python",
   "nbconvert_exporter": "python",
   "pygments_lexer": "ipython3",
   "version": "3.13.1"
  }
 },
 "nbformat": 4,
 "nbformat_minor": 5
}
