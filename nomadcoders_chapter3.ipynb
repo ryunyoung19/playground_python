{
 "cells": [
  {
   "cell_type": "code",
   "execution_count": null,
   "id": "e198c341-799c-4127-8bc9-227e64c05950",
   "metadata": {},
   "outputs": [],
   "source": [
    "#3 Control FLow\n",
    "#3.3 And & Or"
   ]
  },
  {
   "cell_type": "code",
   "execution_count": 3,
   "id": "eb206229-fc25-41ed-940a-afd4c6da4edd",
   "metadata": {},
   "outputs": [
    {
     "name": "stdin",
     "output_type": "stream",
     "text": [
      "How old are you? 36\n"
     ]
    },
    {
     "name": "stdout",
     "output_type": "stream",
     "text": [
      "user answer 36\n"
     ]
    }
   ],
   "source": [
    "age = input(\"How old are you?\")\n",
    "print(\"user answer\", age)"
   ]
  },
  {
   "cell_type": "code",
   "execution_count": 4,
   "id": "f09f3cd4-3d5b-4f8b-b6fb-017f0e9de738",
   "metadata": {},
   "outputs": [
    {
     "name": "stdout",
     "output_type": "stream",
     "text": [
      "<class 'str'>\n"
     ]
    }
   ],
   "source": [
    "print(type(age))"
   ]
  },
  {
   "cell_type": "code",
   "execution_count": 18,
   "id": "bbabf318-ab92-4587-a333-ba8d6a507c2a",
   "metadata": {},
   "outputs": [
    {
     "name": "stdin",
     "output_type": "stream",
     "text": [
      "How old are you? 60\n"
     ]
    }
   ],
   "source": [
    "age = int(input(\"How old are you?\"))"
   ]
  },
  {
   "cell_type": "code",
   "execution_count": 19,
   "id": "38488d64-ae8d-4497-9572-da2a1d73ff9e",
   "metadata": {},
   "outputs": [
    {
     "name": "stdout",
     "output_type": "stream",
     "text": [
      "Birthday party!\n"
     ]
    }
   ],
   "source": [
    "if age < 18:\n",
    "    print(\"You can't drink.\")\n",
    "elif age >= 18 and age <= 35:\n",
    "    print(\"You drink beer!\")\n",
    "elif age == 60 or age == 70:\n",
    "    print(\"Birthday party!\")\n",
    "else:\n",
    "    print(\"Go agead!\")"
   ]
  },
  {
   "cell_type": "code",
   "execution_count": 25,
   "id": "fb35843b-7011-4114-a55d-8d2e05354e5b",
   "metadata": {},
   "outputs": [],
   "source": [
    "#3.4 Python Standard Library (random.randint(a,b)"
   ]
  },
  {
   "cell_type": "code",
   "execution_count": 24,
   "id": "3d1a499b-4f33-49d3-b256-1914ad35f752",
   "metadata": {},
   "outputs": [
    {
     "name": "stdin",
     "output_type": "stream",
     "text": [
      "Choose number. 48\n"
     ]
    },
    {
     "name": "stdout",
     "output_type": "stream",
     "text": [
      "Lower! Computer chose 3\n"
     ]
    }
   ],
   "source": [
    "from random import randint\n",
    "user_choice = int(input(\"Choose number.\"))\n",
    "pc_choice = randint(1, 50)\n",
    "\n",
    "if user_choice == pc_choice:\n",
    " print(\"You won!\")\n",
    "elif user_choice > pc_choice:\n",
    "    print(\"Lower! Computer chose\", pc_choice)\n",
    "elif user_choice < pc_choice:\n",
    "    print(\"Higher! Computer chose\", pc_choice)"
   ]
  },
  {
   "cell_type": "code",
   "execution_count": null,
   "id": "7d5685c7-ba23-46c8-a12e-2e1f6c5189b1",
   "metadata": {},
   "outputs": [],
   "source": [
    "   "
   ]
  }
 ],
 "metadata": {
  "kernelspec": {
   "display_name": "Python 3 (ipykernel)",
   "language": "python",
   "name": "python3"
  },
  "language_info": {
   "codemirror_mode": {
    "name": "ipython",
    "version": 3
   },
   "file_extension": ".py",
   "mimetype": "text/x-python",
   "name": "python",
   "nbconvert_exporter": "python",
   "pygments_lexer": "ipython3",
   "version": "3.13.1"
  }
 },
 "nbformat": 4,
 "nbformat_minor": 5
}
